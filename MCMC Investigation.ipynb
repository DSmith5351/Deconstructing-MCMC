{
 "cells": [
  {
   "cell_type": "markdown",
   "metadata": {},
   "source": [
    "# A Discrete Inquiry Into MCMC\n",
    "This notebook explores the behavior of Markov chain Monte Carlo\n",
    "on a discrete, finite-dimensional state space. We are given a positive function $q$\n",
    "on the the set $S = \\{ 0, 1, ..., d-1 \\}$ and seek a Markov chain $P'$ on $S$ whose stationary \n",
    "distribution is $q$. \n",
    "\n",
    "The code below chooses $q$ from a small menu using Target_selector. We find $P'$ by first constructing a Markov chain $P$ on $S$ and then modifying $P$ into a suitable $P'$. The class P_selector contains a menu from which one chooses the first row of $P$, which specifies the transition probabilities from state 0 to other states. The method make_P_matrix then fills out the matrix $P$ by shifting the first row to create the other rows.\n",
    "\n",
    "With $q$ and $P$ in hand, the function P_mcmc applies the MCMC algorithm to create P' = P_mcmc."
   ]
  },
  {
   "cell_type": "code",
   "execution_count": 1,
   "metadata": {},
   "outputs": [],
   "source": [
    "import numpy as np\n",
    "dim = 9"
   ]
  },
  {
   "cell_type": "code",
   "execution_count": 4,
   "metadata": {},
   "outputs": [],
   "source": [
    "class Target_selector:\n",
    "    def __init__(self,dim):\n",
    "        self.dim = dim\n",
    "        \n",
    "    def geometric(self):\n",
    "        return 2**np.arange(dim)\n",
    "    \n",
    "    def factorial(self):\n",
    "        q = np.array([])\n",
    "        for number in range(1,self.dim+1):\n",
    "            q = np.append(q,self.fact(number))\n",
    "        return q\n",
    "            \n",
    "    def fact(self,n):\n",
    "        if n > 1:\n",
    "            return n * self.fact(n-1)\n",
    "        else:\n",
    "            return 1\n",
    "        "
   ]
  },
  {
   "cell_type": "markdown",
   "metadata": {},
   "source": [
    "### Choose a target distribution $q$ by choosing Target_selector's method. \n",
    "\n",
    "The menu provided here has only increasing functions $q$, to make the interpretation of the MCMC results easier. This is no restriction, as we can always relabel states to make $q$ increasing."
   ]
  },
  {
   "cell_type": "code",
   "execution_count": 14,
   "metadata": {},
   "outputs": [
    {
     "name": "stdout",
     "output_type": "stream",
     "text": [
      "Target distribution q: \n",
      " [0.002 0.004 0.008 0.016 0.031 0.063 0.125 0.25  0.501]\n"
     ]
    }
   ],
   "source": [
    "t = Target_selector(dim)\n",
    "q = t.geometric()\n",
    "q_dist = q/np.sum(q)  # normalize q for investigating convergence\n",
    "print('Target distribution q: \\n',np.round(q_dist,3))"
   ]
  },
  {
   "cell_type": "code",
   "execution_count": 2,
   "metadata": {},
   "outputs": [],
   "source": [
    "# https://jaxenter.com/implement-switch-case-statement-python-138315.html\n",
    "class P_selector:\n",
    "    def __init__(self, dim, right):\n",
    "        self.dim = dim\n",
    "        self.right_jump = right\n",
    "        \n",
    "    def make_P_matrix(self,argument):\n",
    "        row = self.first_row(argument)\n",
    "        m = row\n",
    "        for r in range(1,row.shape[1]):\n",
    "            m = np.concatenate((m,\n",
    "                                np.roll(row,r)),\n",
    "                                axis=0)\n",
    "        return m\n",
    "        \n",
    "    def first_row(self, argument):\n",
    "        \"\"\"Dispatch method\"\"\"\n",
    "        method_name = str(argument)\n",
    "        # Get the method from 'self'. Default to a lambda.\n",
    "        method = getattr(self, method_name, lambda: \"Invalid distribution\")\n",
    "        # Call the method as we return it\n",
    "        return method()\n",
    "    \n",
    "#   Clock tick walk on the circle: one step clockwise per epoch\n",
    "    def clock_tick(self):\n",
    "        row = np.zeros((1,self.dim))\n",
    "        row[0,1]=1\n",
    "        return row\n",
    "    \n",
    "#   Markov chain with independent trials, uniform\n",
    "    def uniform(self):\n",
    "        return np.full((1,self.dim),1.0/self.dim)\n",
    "    \n",
    "#   Jump from state 0 to other states with equal probability\n",
    "    def uniform_jump(self):\n",
    "        row = np.full((1,self.dim),1.0/(self.dim-1))\n",
    "        row[0,0] = 0\n",
    "        return row\n",
    "    \n",
    "#   Adjacent neighbor random walk on the circle\n",
    "    def random_walk(self):\n",
    "        row = np.zeros((1,self.dim))\n",
    "        row[0,1] = self.right_jump\n",
    "        row[0,-1] = 1 - self.right_jump\n",
    "        return row\n"
   ]
  },
  {
   "cell_type": "markdown",
   "metadata": {},
   "source": [
    "### Choose the base Markov chain by choosing the argument of P_selector.make_P_matrix."
   ]
  },
  {
   "cell_type": "code",
   "execution_count": 25,
   "metadata": {},
   "outputs": [
    {
     "name": "stdout",
     "output_type": "stream",
     "text": [
      "P:\n",
      " [[0.11 0.11 0.11 0.11 0.11 0.11 0.11 0.11 0.11]\n",
      " [0.11 0.11 0.11 0.11 0.11 0.11 0.11 0.11 0.11]\n",
      " [0.11 0.11 0.11 0.11 0.11 0.11 0.11 0.11 0.11]\n",
      " [0.11 0.11 0.11 0.11 0.11 0.11 0.11 0.11 0.11]\n",
      " [0.11 0.11 0.11 0.11 0.11 0.11 0.11 0.11 0.11]\n",
      " [0.11 0.11 0.11 0.11 0.11 0.11 0.11 0.11 0.11]\n",
      " [0.11 0.11 0.11 0.11 0.11 0.11 0.11 0.11 0.11]\n",
      " [0.11 0.11 0.11 0.11 0.11 0.11 0.11 0.11 0.11]\n",
      " [0.11 0.11 0.11 0.11 0.11 0.11 0.11 0.11 0.11]]\n",
      "(9, 9)\n"
     ]
    }
   ],
   "source": [
    "s  = P_selector(dim, 0.5)\n",
    "P = s.make_P_matrix('uniform')\n",
    "print('P:\\n', np.round(P,2))\n",
    "print (P.shape)"
   ]
  },
  {
   "cell_type": "markdown",
   "metadata": {},
   "source": [
    "The formula for the MCMC transition matrix $P_{mcmc} = P'$ is\n",
    "\\begin{equation*}\n",
    "p'_{xy} = p_{xy} \\min (1,{q_y p_{yx}}/{q_x p_{xy}} ) = \\frac {\\min (q_x p_{xy},q_y p_{yx})}{q_x}\n",
    "\\end{equation*}"
   ]
  },
  {
   "cell_type": "markdown",
   "metadata": {},
   "source": [
    "### The next cell computes and displays P_mcmc. \n",
    "\n",
    "Note how the matrix entries above the diagonal are the same as those of $P$ because we do not decrease $p_{xy}$ when the flux from $x$ to $y$ is smaller than the flux from $y$ to $x$. However, below the diagonal, we do decrease $p_{xy}$ to lower the flux from $x$ to $y$, thereby making the Markov chain visit lower-numbered states less often in favor of revisiting the state on the diagonal. "
   ]
  },
  {
   "cell_type": "code",
   "execution_count": 26,
   "metadata": {},
   "outputs": [
    {
     "name": "stdout",
     "output_type": "stream",
     "text": [
      "P_mcmc:\n",
      " [[0.11 0.11 0.11 0.11 0.11 0.11 0.11 0.11 0.11]\n",
      " [0.06 0.17 0.11 0.11 0.11 0.11 0.11 0.11 0.11]\n",
      " [0.03 0.06 0.25 0.11 0.11 0.11 0.11 0.11 0.11]\n",
      " [0.01 0.03 0.06 0.35 0.11 0.11 0.11 0.11 0.11]\n",
      " [0.01 0.01 0.03 0.06 0.45 0.11 0.11 0.11 0.11]\n",
      " [0.   0.01 0.01 0.03 0.06 0.56 0.11 0.11 0.11]\n",
      " [0.   0.   0.01 0.01 0.03 0.06 0.67 0.11 0.11]\n",
      " [0.   0.   0.   0.01 0.01 0.03 0.06 0.78 0.11]\n",
      " [0.   0.   0.   0.   0.01 0.01 0.03 0.06 0.89]]\n"
     ]
    }
   ],
   "source": [
    "def P_mcmc(P,q):\n",
    "    A = np.matmul(np.diag(q),P)\n",
    "    C = np.minimum(A, A.T)  # the numerator of P'\n",
    "    D = np.matmul(np.diag(1/q),C)\n",
    "    return  D + np.diag(1.0 - np.sum(D,axis=1))\n",
    "    \n",
    "P_mcmc = P_mcmc(P,q)\n",
    "print('P_mcmc:\\n',np.round(P_mcmc,2))"
   ]
  },
  {
   "cell_type": "markdown",
   "metadata": {},
   "source": [
    "## Properties of P_mcmc\n",
    "The next few cells verify that the MCMC algorithm behaves as predicted and explore some of the algorithm's properties.\n",
    "\n",
    "First, we verify that q is the stationary distribution by qP_mcmc - q = 0"
   ]
  },
  {
   "cell_type": "code",
   "execution_count": 16,
   "metadata": {
    "scrolled": true
   },
   "outputs": [
    {
     "name": "stdout",
     "output_type": "stream",
     "text": [
      "||qP_mcmc - q|| =  0.0\n",
      "Stationary distribution\n",
      "[0.002 0.004 0.008 0.016 0.031 0.063 0.125 0.25  0.501]\n"
     ]
    }
   ],
   "source": [
    "diff = np.dot(q,P_mcmc)-q\n",
    "print('||qP_mcmc - q|| = ',np.sqrt(np.dot(diff,diff)))\n",
    "print('Stationary distribution')\n",
    "\n",
    "print(np.round(q_dist,3))"
   ]
  },
  {
   "cell_type": "markdown",
   "metadata": {},
   "source": [
    "### How quickly does MCMC converge?\n",
    "\n",
    "A standard result from Markov chains is that each row of the matrix power $(P')^n$ should converge to the stationary distribution $q$. The cell below finds the difference between the stationary distribution and each row of  $(P')^n$. Row $x$ is the distribution of the chain after $n$ steps, starting in state $x$.\n",
    "\n",
    "The cell then calculates the largest difference, which represents the largest error over all initial states.  It uses two notions of difference, the total variation distance between a row of $(P')^n$ and $q$ and the Kullback-Leibler divergence. The square root of the KL divergence is known to bound the total variation distance."
   ]
  },
  {
   "cell_type": "code",
   "execution_count": 37,
   "metadata": {},
   "outputs": [
    {
     "name": "stdout",
     "output_type": "stream",
     "text": [
      "\n",
      "P_mcmc ** 40 \n",
      " [[0.002 0.004 0.008 0.016 0.031 0.063 0.125 0.251 0.501]\n",
      " [0.002 0.004 0.008 0.016 0.031 0.063 0.125 0.251 0.501]\n",
      " [0.002 0.004 0.008 0.016 0.031 0.063 0.125 0.251 0.501]\n",
      " [0.002 0.004 0.008 0.016 0.031 0.063 0.125 0.251 0.501]\n",
      " [0.002 0.004 0.008 0.016 0.031 0.063 0.125 0.251 0.501]\n",
      " [0.002 0.004 0.008 0.016 0.031 0.063 0.125 0.251 0.501]\n",
      " [0.002 0.004 0.008 0.016 0.031 0.063 0.125 0.251 0.501]\n",
      " [0.002 0.004 0.008 0.016 0.031 0.063 0.125 0.251 0.501]\n",
      " [0.002 0.004 0.008 0.016 0.031 0.063 0.125 0.25  0.501]]\n"
     ]
    },
    {
     "data": {
      "text/plain": [
       "<matplotlib.legend.Legend at 0x22c0a973780>"
      ]
     },
     "execution_count": 37,
     "metadata": {},
     "output_type": "execute_result"
    },
    {
     "data": {
      "image/png": "[encoded data removed]",
      "text/plain": [
       "<Figure size 432x288 with 1 Axes>"
      ]
     },
     "metadata": {
      "needs_background": "light"
     },
     "output_type": "display_data"
    }
   ],
   "source": [
    "\n",
    "import matplotlib.pyplot as plt\n",
    "\n",
    "def convergence_rate(P,max_power,stat_dist):\n",
    "    M = P\n",
    "    tv_array = np.array([])\n",
    "    kl_array = np.array([])\n",
    "    for p in range(1, max_power):\n",
    "        M = np.matmul(M,P)\n",
    "        tv = 0.5 * np.max(np.sum(np.fabs(M-stat_dist),axis=1))\n",
    "        kl = 0.5 * np.max(np.sum(M*np.nan_to_num(np.log(M/stat_dist)),axis=1))        \n",
    "        tv_array = np.append(tv_array, tv)\n",
    "        kl_array = np.append(kl_array, np.nan_to_num(kl))\n",
    "       \n",
    "#         print(p+1,'\\t', np.round(tv,5),'\\t', np.round(np.sqrt(kl),5))\n",
    "    print('\\nP_mcmc **', max_power, '\\n',np.round(M,3))\n",
    "    return(tv_array,np.sqrt(kl_array))\n",
    "\n",
    "# print('Power\\t', 'Tot var\\t','sqrt KL')\n",
    "iterations = 40\n",
    "TV, KL = convergence_rate(P_mcmc,iterations,q_dist)\n",
    "#print (TV, KL)\n",
    "\n",
    "plt.figure()\n",
    "plt.plot(np.arange(2,2+TV.shape[0]),TV, label='TV')\n",
    "plt.plot(np.arange(3,2+TV.shape[0]),KL[1:],label=\"sqrt KL\")\n",
    "plt.legend(loc='best')\n"
   ]
  },
  {
   "cell_type": "markdown",
   "metadata": {},
   "source": [
    "### Eigenvalues of P_mcmc\n",
    "\n",
    "Another well-known result about Markov chains (see https://en.wikipedia.org/wiki/Markov_chain#Steady-state_analysis_and_limiting_distributions ) is that the second largest eigenvalue of P_mcmc governs how quickly $(P')^n$ converges to a matrix all of whose rows are $q$.  The next cell calculates the rate."
   ]
  },
  {
   "cell_type": "code",
   "execution_count": 36,
   "metadata": {},
   "outputs": [
    {
     "name": "stdout",
     "output_type": "stream",
     "text": [
      "Rank of P_mcmc =  9\n",
      "Eigenvalues of P_mcmc:  [1.   0.78 0.67 0.06 0.56 0.14 0.45 0.24 0.34]\n",
      "Geometric convergence rate (ratio of 2nd largest to largest eigenvalue) = 0.78\n"
     ]
    }
   ],
   "source": [
    "#eigenvalues and eigenvectors of P_mcmc\n",
    "from numpy import linalg as LA\n",
    "e_values,e_vectors = LA.eig(P_mcmc.T)  # transpose to get left eigenvectors\n",
    "print ('Eigenvalues of P_mcmc: ', np.round(e_values,2))\n",
    "\n",
    "print('Geometric convergence rate (ratio of 2nd largest to largest eigenvalue) =', \n",
    "     np.round(np.sort(e_values)[-2]/np.sort(e_values)[-1],2))"
   ]
  },
  {
   "cell_type": "markdown",
   "metadata": {},
   "source": [
    "### Sample paths of P_mcmc\n",
    "\n",
    "MCMC generates samples from the distribution $q$ by running the Markov chain P_mcmc and reading off the sequence of states the chain passes through (aka the sample path). By setting the parameter \"epochs\" below, you can generate a sample path of a desired length. \n",
    "\n",
    "You can see from the sample plot that the successive samples are not independent, even if we start with the base Markov chain \"uniform\" in which the state transition does not depend on the current state. The reason is that we increase the number of visits to states $x$ with high values of $q(x)$ by making the chain return to $x$ repeatedly. Such states have high values on the diagonal of P_mcmc."
   ]
  },
  {
   "cell_type": "code",
   "execution_count": 33,
   "metadata": {
    "scrolled": false
   },
   "outputs": [
    {
     "name": "stdout",
     "output_type": "stream",
     "text": [
      "Frequencies:  [0.002 0.007 0.016 0.016 0.061 0.062 0.122 0.245 0.47 ]\n"
     ]
    },
    {
     "data": {
      "image/png": "[encoded data removed]",
      "text/plain": [
       "<Figure size 432x288 with 1 Axes>"
      ]
     },
     "metadata": {
      "needs_background": "light"
     },
     "output_type": "display_data"
    },
    {
     "data": {
      "image/png": "[encoded data removed]",
      "text/plain": [
       "<Figure size 432x288 with 1 Axes>"
      ]
     },
     "metadata": {
      "needs_background": "light"
     },
     "output_type": "display_data"
    },
    {
     "name": "stdout",
     "output_type": "stream",
     "text": [
      "Stationary distribution:  [0.002 0.004 0.008 0.016 0.031 0.063 0.125 0.25  0.501]\n",
      "MCMC Density:  [0.002 0.007 0.016 0.016 0.061 0.062 0.122 0.245 0.47 ]\n"
     ]
    }
   ],
   "source": [
    "import matplotlib.pyplot as plt\n",
    "\n",
    "def transition(state, cum_matrix, rnd):\n",
    "    return np.argmax(cum_matrix[state,:] > rnd)\n",
    "\n",
    "def generate_path(tr_matrix, init_state, unif):\n",
    "    C = np.cumsum(tr_matrix,axis=1)\n",
    "    #print(np.round(C,2))\n",
    "    path = np.array(init_state)\n",
    "    state = init_state\n",
    "    for u in unif:\n",
    "        state = transition(state,C,u)\n",
    "        path = np.append(path,state)\n",
    "    return path\n",
    "\n",
    "def plot_density(path,label1,x,st_dist,label2):\n",
    "    plt.figure()\n",
    "    #counts,bins,patches = plt.hist(path,bins=dim,facecolor='green', alpha=0.5,label=label)\n",
    "    counts,bins,patches = plt.hist(path,\n",
    "                                   np.arange(min(path)-0.5, max(path)+1.0+0.5),\n",
    "                                   density=True,\n",
    "                                   facecolor='green', \n",
    "                                   #histtype='step',\n",
    "                                   alpha=0.3,\n",
    "                                   label=label1)\n",
    "    plt.xticks(range(min(path), 1+max(path)))\n",
    "    plt.step(x+0.5,st_dist,\n",
    "             linewidth=2, \n",
    "             linestyle='dashed',\n",
    "             color='r',\n",
    "             label=label2)\n",
    "    #print('bins: ',bins)\n",
    "    print('Frequencies: ',np.round(counts,3))\n",
    "    #print('Ratios: ',np.round(counts[1:]/counts[:-1],3))\n",
    "    plt.legend(loc='best')\n",
    "    plt.grid(False)\n",
    "    plt.show()\n",
    "    return counts/np.sum(counts)\n",
    "\n",
    "# Generate a Markov chain sample path\n",
    "epochs = 1000\n",
    "rng = np.random.RandomState(10)\n",
    "uniform = rng.random_sample(epochs)\n",
    "#print(uniform.shape)\n",
    "\n",
    "initial_state = 0\n",
    "path = generate_path(P_mcmc,initial_state,uniform)\n",
    "plt.plot(path)\n",
    "\n",
    "x = np.arange(0,dim,1)\n",
    "density = plot_density(path,'P_mcmc',x,q_dist,'True')\n",
    "print('Stationary distribution: ',np.round(v0,3))\n",
    "print('MCMC Density: ',np.round(density,3))\n"
   ]
  },
  {
   "cell_type": "markdown",
   "metadata": {},
   "source": [
    "### Correlation\n",
    "Successive samples from P_mcmc are correlated. How much?"
   ]
  },
  {
   "cell_type": "code",
   "execution_count": 34,
   "metadata": {},
   "outputs": [
    {
     "data": {
      "text/plain": [
       "[<matplotlib.lines.Line2D at 0x22c0b2137b8>]"
      ]
     },
     "execution_count": 34,
     "metadata": {},
     "output_type": "execute_result"
    },
    {
     "data": {
      "image/png": "[encoded data removed]",
      "text/plain": [
       "<Figure size 432x288 with 1 Axes>"
      ]
     },
     "metadata": {
      "needs_background": "light"
     },
     "output_type": "display_data"
    }
   ],
   "source": [
    "from scipy.ndimage.interpolation import shift\n",
    "def cov_function(X,max_lag):\n",
    "    X = X - np.mean(X)\n",
    "    cov_fn = np.array([])\n",
    "    for lag in range(max_lag):\n",
    "        cov_fn = np.append(cov_fn,np.dot(X,shift(X,lag,cval=0)))\n",
    "    return cov_fn/(X.shape[0] - 1)\n",
    "\n",
    "max_lag = 50\n",
    "covs = cov_function(path,max_lag)\n",
    "plt.plot(np.arange(0,covs.shape[0]),covs/covs[0])"
   ]
  },
  {
   "cell_type": "markdown",
   "metadata": {},
   "source": [
    "### Recurrence times\n",
    "\n",
    "A Markov chain's stationary distribution at a given state is inversely proportional to the mean time between returns to that state (the mean recurrence time). This cell compares the two on the sample path created above."
   ]
  },
  {
   "cell_type": "code",
   "execution_count": 35,
   "metadata": {},
   "outputs": [
    {
     "name": "stdout",
     "output_type": "stream",
     "text": [
      "Stationary distribution:  [0.002 0.004 0.008 0.016 0.031 0.063 0.125 0.25  0.501]\n",
      "Mean recurrence times:  [0.002 0.03  0.023 0.018 0.063 0.061 0.121 0.251 0.479]\n"
     ]
    }
   ],
   "source": [
    "# recurrence times\n",
    "def mean_recurrence(path):\n",
    "    mr = np.array([])\n",
    "    states = np.unique(path)\n",
    "    for s in states:\n",
    "        v = np.where(path==s)[0]  # where returns a tuple, even if 1-dimensional\n",
    "        mr = np.append(mr,np.mean(v[1:] - v[:-1]))\n",
    "    return mr\n",
    "\n",
    "rec = mean_recurrence(path)\n",
    "rec = 1.0/rec\n",
    "print('Stationary distribution: ',np.round(v0,3))\n",
    "print('Mean recurrence times: ',np.round(rec,3))"
   ]
  },
  {
   "cell_type": "code",
   "execution_count": null,
   "metadata": {},
   "outputs": [],
   "source": []
  }
 ],
 "metadata": {
  "kernelspec": {
   "display_name": "Python 3",
   "language": "python",
   "name": "python3"
  },
  "language_info": {
   "codemirror_mode": {
    "name": "ipython",
    "version": 3
   },
   "file_extension": ".py",
   "mimetype": "text/x-python",
   "name": "python",
   "nbconvert_exporter": "python",
   "pygments_lexer": "ipython3",
   "version": "3.7.1"
  }
 },
 "nbformat": 4,
 "nbformat_minor": 2
}
